{
 "cells": [
  {
   "cell_type": "markdown",
   "id": "fed908ee",
   "metadata": {},
   "source": [
    "# Attention メカニズムのコーディング"
   ]
  },
  {
   "cell_type": "markdown",
   "id": "d1e05696",
   "metadata": {},
   "source": [
    "## 3.1. 長いシーケンスをモデル化するときの問題点"
   ]
  },
  {
   "cell_type": "markdown",
   "id": "54cb2ce6",
   "metadata": {},
   "source": [
    "再起型ニューラルネットワーク (recurrent neural network: RNN): 前ステップの出力を入力に受け取る．エンコーディング中の過去の隠れ層にアクセスできない問題があった．"
   ]
  },
  {
   "cell_type": "markdown",
   "id": "b56409c2",
   "metadata": {},
   "source": [
    "## 3.2. Attention メカニズムでデータの依存関係をとらえる"
   ]
  },
  {
   "cell_type": "markdown",
   "id": "866431e0",
   "metadata": {},
   "source": [
    "Bahdanau Attention メカニズム: デコーディングステップで入力シーケンスの異なる部分に選択的にアクセスできる．  \n",
    "Self-Attention: 出力シーケンスの各値の計算時に、入力シーケンス内の位置が同じ成分に対して他のすべての位置の関連性を考慮できるようにするメカニズム．"
   ]
  },
  {
   "cell_type": "markdown",
   "id": "7ffb24e8",
   "metadata": {},
   "source": [
    "## 3.3. Self-Attention を使って入力の異なる部分に注意を払う"
   ]
  },
  {
   "cell_type": "markdown",
   "id": "6b99a3fe",
   "metadata": {},
   "source": [
    "### 3.3.1. 訓練可能な重みをもたない単純な Self-Attention メカニズム"
   ]
  },
  {
   "cell_type": "code",
   "execution_count": 2,
   "id": "dffa8e7a",
   "metadata": {},
   "outputs": [],
   "source": [
    "import torch\n",
    "# トークンの埋め込みの例\n",
    "inputs = torch.tensor(\n",
    "    [[0.43, 0.15, 0.89], # Your(x^1)\n",
    "     [0.55, 0.87, 0.66], # Journey (x^2)\n",
    "     [0.57, 0.85, 0.64], # starts (x^3)\n",
    "     [0.22, 0.58, 0.33], # with (x^4)\n",
    "     [0.77, 0.25, 0.10], # one (x^5)\n",
    "     [0.05, 0.80, 0.55]] # step (x^6)\n",
    ")"
   ]
  },
  {
   "cell_type": "markdown",
   "id": "a57a2c10",
   "metadata": {},
   "source": [
    "埋め込み後の一つのトークン `query` と、それを含むバッチ `inputs` に着目して、バッチ内の各成分ごとに内積を計算してみる．"
   ]
  },
  {
   "cell_type": "code",
   "execution_count": 3,
   "id": "9ce9a6bd",
   "metadata": {},
   "outputs": [
    {
     "name": "stdout",
     "output_type": "stream",
     "text": [
      "tensor([0.9544, 1.4950, 1.4754, 0.8434, 0.7070, 1.0865])\n"
     ]
    }
   ],
   "source": [
    "query = inputs[1]\n",
    "attn_score_2 = torch.empty(inputs.shape[0])\n",
    "for i, x_i in enumerate(inputs):\n",
    "    attn_score_2[i] = torch.dot(x_i, query) # x_i(=inputs[i]) と query(=inputs[1]) のベクトルの内積\n",
    "\n",
    "print(attn_score_2)"
   ]
  },
  {
   "cell_type": "markdown",
   "id": "fe42870b",
   "metadata": {},
   "source": [
    "attention weights (`attn_weights_2_t,p`) は attension socore (`attn_score_2`) を総和で割ることで、その総和を 1 に調整したもの"
   ]
  },
  {
   "cell_type": "code",
   "execution_count": 4,
   "id": "6f51fa64",
   "metadata": {},
   "outputs": [
    {
     "name": "stdout",
     "output_type": "stream",
     "text": [
      "Attention weights: tensor([0.1455, 0.2278, 0.2249, 0.1285, 0.1077, 0.1656])\n",
      "Sum: tensor(1.0000)\n"
     ]
    }
   ],
   "source": [
    "attn_weights_2_tmp = attn_score_2 / attn_score_2.sum()\n",
    "print(f\"Attention weights: {attn_weights_2_tmp.__repr__()}\")\n",
    "print(f\"Sum: {attn_weights_2_tmp.sum().__repr__()}\")"
   ]
  },
  {
   "cell_type": "markdown",
   "id": "236801c4",
   "metadata": {},
   "source": [
    "実際には softmax 関数で正規化する。 -> 最適化の勾配を安定させる。"
   ]
  },
  {
   "cell_type": "markdown",
   "id": "d7ff7313",
   "metadata": {},
   "source": [
    "$$ \\text{Softmax}(z) = \\left(\\frac{e^{z_i}}{\\sum_{j=1}^{n} e^{z_j}}\\right)_{i=1 \\dots n} $$\n",
    "ソフトマックス関数で計算した重みは重要度として解釈できる．"
   ]
  },
  {
   "cell_type": "code",
   "execution_count": 5,
   "id": "0f17c420",
   "metadata": {},
   "outputs": [],
   "source": [
    "def softmax_naive(x): # 素朴実装はオーバーフロー、アンダーフローに弱い\n",
    "    return torch.exp(x) / torch.exp(x).sum(dim=0)"
   ]
  },
  {
   "cell_type": "code",
   "execution_count": 6,
   "id": "c41ce51e",
   "metadata": {},
   "outputs": [
    {
     "name": "stdout",
     "output_type": "stream",
     "text": [
      "Attention weights: tensor([0.1385, 0.2379, 0.2333, 0.1240, 0.1082, 0.1581])\n",
      "Sum: tensor(1.)\n"
     ]
    }
   ],
   "source": [
    "attn_weights_2_naive = softmax_naive(attn_score_2)\n",
    "print(f\"Attention weights: {attn_weights_2_naive.__repr__()}\")\n",
    "print(f\"Sum: {attn_weights_2_naive.sum().__repr__()}\")"
   ]
  },
  {
   "cell_type": "code",
   "execution_count": 7,
   "id": "0680b23d",
   "metadata": {},
   "outputs": [
    {
     "name": "stdout",
     "output_type": "stream",
     "text": [
      "Attention weight: tensor([0.1385, 0.2379, 0.2333, 0.1240, 0.1082, 0.1581])\n",
      "Sum: tensor(1.)\n"
     ]
    }
   ],
   "source": [
    "attn_weights_2 = torch.softmax(attn_score_2, dim=0)\n",
    "print(f\"Attention weight: {attn_weights_2.__repr__()}\")\n",
    "print(f\"Sum: {attn_weights_2.sum().__repr__()}\")"
   ]
  },
  {
   "cell_type": "code",
   "execution_count": 8,
   "id": "7ced9b59",
   "metadata": {},
   "outputs": [
    {
     "name": "stdout",
     "output_type": "stream",
     "text": [
      "tensor([0.4419, 0.6515, 0.5683])\n"
     ]
    }
   ],
   "source": [
    "query = inputs[1] # 2つ目の入力トークンがクエリのとき、出力は\n",
    "context_vec_2 = torch.zeros(query.shape)\n",
    "\n",
    "for i, x_i in enumerate(inputs):\n",
    "    context_vec_2 += attn_weights_2[i] * x_i\n",
    "\n",
    "print(context_vec_2)"
   ]
  },
  {
   "cell_type": "markdown",
   "id": "05d13ce8",
   "metadata": {},
   "source": [
    "### 3.3.2. すべての入力トークンについて Attention の重みを計算する"
   ]
  },
  {
   "cell_type": "code",
   "execution_count": 9,
   "id": "7af8cb49",
   "metadata": {},
   "outputs": [
    {
     "name": "stdout",
     "output_type": "stream",
     "text": [
      "tensor([[0.9995, 0.9544, 0.9422, 0.4753, 0.4576, 0.6310],\n",
      "        [0.9544, 1.4950, 1.4754, 0.8434, 0.7070, 1.0865],\n",
      "        [0.9422, 1.4754, 1.4570, 0.8296, 0.7154, 1.0605],\n",
      "        [0.4753, 0.8434, 0.8296, 0.4937, 0.3474, 0.6565],\n",
      "        [0.4576, 0.7070, 0.7154, 0.3474, 0.6654, 0.2935],\n",
      "        [0.6310, 1.0865, 1.0605, 0.6565, 0.2935, 0.9450]])\n"
     ]
    }
   ],
   "source": [
    "attn_scores = torch.empty(6,6)\n",
    "for i, x_i in enumerate(inputs):\n",
    "    for j, x_j in enumerate(inputs):\n",
    "        attn_scores[i, j] = torch.dot(x_i, x_j)\n",
    "\n",
    "print(attn_scores)"
   ]
  },
  {
   "cell_type": "markdown",
   "id": "e7506213",
   "metadata": {},
   "source": [
    "この計算結果は、行列とその行列の転置の積に他ならない．"
   ]
  },
  {
   "cell_type": "code",
   "execution_count": 10,
   "id": "dc8ea350",
   "metadata": {},
   "outputs": [
    {
     "name": "stdout",
     "output_type": "stream",
     "text": [
      "tensor([[0.9995, 0.9544, 0.9422, 0.4753, 0.4576, 0.6310],\n",
      "        [0.9544, 1.4950, 1.4754, 0.8434, 0.7070, 1.0865],\n",
      "        [0.9422, 1.4754, 1.4570, 0.8296, 0.7154, 1.0605],\n",
      "        [0.4753, 0.8434, 0.8296, 0.4937, 0.3474, 0.6565],\n",
      "        [0.4576, 0.7070, 0.7154, 0.3474, 0.6654, 0.2935],\n",
      "        [0.6310, 1.0865, 1.0605, 0.6565, 0.2935, 0.9450]])\n"
     ]
    }
   ],
   "source": [
    "attn_socres = inputs @ inputs.T\n",
    "print(attn_scores)"
   ]
  },
  {
   "cell_type": "code",
   "execution_count": 11,
   "id": "6a208568",
   "metadata": {},
   "outputs": [
    {
     "name": "stdout",
     "output_type": "stream",
     "text": [
      "tensor([[0.2098, 0.2006, 0.1981, 0.1242, 0.1220, 0.1452],\n",
      "        [0.1385, 0.2379, 0.2333, 0.1240, 0.1082, 0.1581],\n",
      "        [0.1390, 0.2369, 0.2326, 0.1242, 0.1108, 0.1565],\n",
      "        [0.1435, 0.2074, 0.2046, 0.1462, 0.1263, 0.1720],\n",
      "        [0.1526, 0.1958, 0.1975, 0.1367, 0.1879, 0.1295],\n",
      "        [0.1385, 0.2184, 0.2128, 0.1420, 0.0988, 0.1896]])\n"
     ]
    }
   ],
   "source": [
    "attn_weights = torch.softmax(attn_scores, dim=1)\n",
    "print(attn_weights)"
   ]
  },
  {
   "cell_type": "code",
   "execution_count": 12,
   "id": "efebccba",
   "metadata": {},
   "outputs": [
    {
     "name": "stdout",
     "output_type": "stream",
     "text": [
      "Row 2 sum: 1.0\n",
      "All row sums:  tensor([1.0000, 1.0000, 1.0000, 1.0000, 1.0000, 1.0000])\n"
     ]
    }
   ],
   "source": [
    "row_2_sum = sum([0.1385, 0.2379, 0.2333, 0.1240, 0.1082, 0.1581])\n",
    "print(\"Row 2 sum:\", row_2_sum)\n",
    "print(\"All row sums: \", attn_weights.sum(dim=-1))"
   ]
  },
  {
   "cell_type": "code",
   "execution_count": 13,
   "id": "9e6e60a8",
   "metadata": {},
   "outputs": [
    {
     "name": "stdout",
     "output_type": "stream",
     "text": [
      "tensor([[0.4421, 0.5931, 0.5790],\n",
      "        [0.4419, 0.6515, 0.5683],\n",
      "        [0.4431, 0.6496, 0.5671],\n",
      "        [0.4304, 0.6298, 0.5510],\n",
      "        [0.4671, 0.5910, 0.5266],\n",
      "        [0.4177, 0.6503, 0.5645]])\n",
      "Previous 2nd context vector: tensor([0.4419, 0.6515, 0.5683])\n"
     ]
    }
   ],
   "source": [
    "all_context_vecs = attn_weights @ inputs\n",
    "print(all_context_vecs)\n",
    "print(\"Previous 2nd context vector:\", context_vec_2)"
   ]
  },
  {
   "cell_type": "markdown",
   "id": "b0eaf60d",
   "metadata": {},
   "source": [
    "## 3.4. 訓練可能な重みを持つ Self-Attention を実装する"
   ]
  },
  {
   "cell_type": "markdown",
   "id": "7470ee68",
   "metadata": {},
   "source": [
    "入力要素 $x$ に対して、クエリベクトル、キーベクトル、値ベクトルを計算する。正確には、それぞれ行列 $W_q$, $W_k$、$W_v$ を使って、入力行列 $x$ との行列式 $xW_q$、\n",
    "$xW_k$、$xW_v$ でそれぞれ計算する。$W_q$, $W_k$、$W_v$ を最適化していく必要がある。"
   ]
  },
  {
   "cell_type": "markdown",
   "id": "df66b2eb",
   "metadata": {},
   "source": [
    "- $ \\operatorname{Attention}(X) := \\operatorname{softmax}(X \\cdot W_q^T \\cdot (X \\cdot W_k^T)^T/\\sqrt{d})$\n",
    "- $ \\operatorname{context}(X) := \\operatorname{Attention(X)} \\cdot (X \\cdot W_v^T)$"
   ]
  },
  {
   "cell_type": "markdown",
   "id": "f1ff6a0c",
   "metadata": {},
   "source": [
    "前節同様に、\"Your journey begins one step\" というベクトル (トークンベクトル) に対して、文脈ベクトル z_1 ... z_7　を計算する。"
   ]
  },
  {
   "cell_type": "markdown",
   "id": "b951530d",
   "metadata": {},
   "source": [
    "まずは `journey` -> z_2 の計算をする"
   ]
  },
  {
   "cell_type": "code",
   "execution_count": 14,
   "id": "1150d8ce",
   "metadata": {},
   "outputs": [
    {
     "name": "stdout",
     "output_type": "stream",
     "text": [
      "x_2 : tensor([0.5500, 0.8700, 0.6600])\n",
      "d_in : 3\n",
      "d_out : 2\n"
     ]
    }
   ],
   "source": [
    "x_2 = inputs[1] # 2 つのめの入力要素 \"Journey\"\n",
    "d_in = inputs.shape[1] # 入力埋め込みのサイズ\n",
    "d_out = 2 # 出力埋込 (本来同じ次元にすべきだが、結果を見やすくするためにあえて d_in と異なる次元にしている)\n",
    "print(f\"x_2 : {x_2}\")\n",
    "print(f\"d_in : {d_in}\")\n",
    "print(f\"d_out : {d_out}\")"
   ]
  },
  {
   "cell_type": "code",
   "execution_count": 15,
   "id": "8b5560fb",
   "metadata": {},
   "outputs": [],
   "source": [
    "torch.manual_seed(123) # これから学習するパラメータ\n",
    "W_query = torch.nn.Parameter(torch.rand(d_in, d_out), requires_grad=False)\n",
    "W_key = torch.nn.Parameter(torch.rand(d_in, d_out), requires_grad=False)\n",
    "W_value = torch.nn.Parameter(torch.rand(d_in, d_out), requires_grad=False)"
   ]
  },
  {
   "cell_type": "code",
   "execution_count": 16,
   "id": "08c2c7d3",
   "metadata": {},
   "outputs": [
    {
     "name": "stdout",
     "output_type": "stream",
     "text": [
      "tensor([0.4306, 1.4551])\n",
      "tensor([0.4433, 1.1419])\n",
      "tensor([0.3951, 1.0037])\n"
     ]
    }
   ],
   "source": [
    "query_2 = x_2 @ W_query\n",
    "key_2 = x_2 @ W_key\n",
    "value_2 = x_2 @ W_value\n",
    "print(query_2)\n",
    "print(key_2)\n",
    "print(value_2)"
   ]
  },
  {
   "cell_type": "markdown",
   "id": "38a3fdd4",
   "metadata": {},
   "source": [
    "入力 x の全体に対してクエリベクトル、キーベクトル、値ベクトルを計算する"
   ]
  },
  {
   "cell_type": "code",
   "execution_count": 17,
   "id": "abe01c15",
   "metadata": {},
   "outputs": [
    {
     "name": "stdout",
     "output_type": "stream",
     "text": [
      "keys.shape: torch.Size([6, 2])\n",
      "values.shape: torch.Size([6, 2])\n"
     ]
    }
   ],
   "source": [
    "keys = inputs @ W_key\n",
    "values = inputs @ W_value\n",
    "print(\"keys.shape:\", keys.shape)\n",
    "print(\"values.shape:\", values.shape)"
   ]
  },
  {
   "cell_type": "markdown",
   "id": "ee211a88",
   "metadata": {},
   "source": [
    "key_2 の Attention 重みは"
   ]
  },
  {
   "cell_type": "code",
   "execution_count": 18,
   "id": "fe125537",
   "metadata": {},
   "outputs": [
    {
     "name": "stdout",
     "output_type": "stream",
     "text": [
      "tensor(1.8524)\n"
     ]
    }
   ],
   "source": [
    "keys_2 = keys[1]\n",
    "attn_score_22 = query_2.dot(key_2)\n",
    "print(attn_score_22)"
   ]
  },
  {
   "cell_type": "markdown",
   "id": "ef7b6351",
   "metadata": {},
   "source": [
    "全体の Attention 重みは"
   ]
  },
  {
   "cell_type": "code",
   "execution_count": 19,
   "id": "93396c4b",
   "metadata": {},
   "outputs": [
    {
     "name": "stdout",
     "output_type": "stream",
     "text": [
      "tensor([1.2705, 1.8524, 1.8111, 1.0795, 0.5577, 1.5440])\n"
     ]
    }
   ],
   "source": [
    "attn_scores_2 = query_2 @ keys.T\n",
    "print(attn_scores_2)"
   ]
  },
  {
   "cell_type": "markdown",
   "id": "b1151aa5",
   "metadata": {},
   "source": [
    "これを softmax 関数で正規化する"
   ]
  },
  {
   "cell_type": "code",
   "execution_count": 20,
   "id": "8c8e0387",
   "metadata": {},
   "outputs": [
    {
     "name": "stdout",
     "output_type": "stream",
     "text": [
      "tensor([0.1500, 0.2264, 0.2199, 0.1311, 0.0906, 0.1820])\n"
     ]
    }
   ],
   "source": [
    "# Attention スコアのスケーリング\n",
    "d_k = keys.shape[-1]\n",
    "attn_weights_2 = torch.softmax(attn_scores_2 / d_k**0.5, dim=-1) # 埋め込み次元の平方根で割っている (勾配を極端にして学習スピードを高める)\n",
    "print(attn_weights_2)"
   ]
  },
  {
   "cell_type": "markdown",
   "id": "49813088",
   "metadata": {},
   "source": [
    "内積で得られるベクトルをスケーリングする操作から、 **Scaled Dot-Prpduct Attention** と呼ばれている。  \n",
    "最後にコンテキストベクトル z_2 を計算する。"
   ]
  },
  {
   "cell_type": "code",
   "execution_count": 21,
   "id": "1fc17633",
   "metadata": {},
   "outputs": [
    {
     "name": "stdout",
     "output_type": "stream",
     "text": [
      "tensor([0.3061, 0.8210])\n"
     ]
    }
   ],
   "source": [
    "context_vec_2 = attn_weights_2 @ values\n",
    "print(context_vec_2)"
   ]
  },
  {
   "cell_type": "markdown",
   "id": "97293722",
   "metadata": {},
   "source": [
    "### 3.4.2. コンパクトな Self-Attention Python クラスを実装する"
   ]
  },
  {
   "cell_type": "code",
   "execution_count": 22,
   "id": "1a007fc3",
   "metadata": {},
   "outputs": [],
   "source": [
    "import torch.nn as nn\n",
    "\n",
    "class SelfAttention_v1(nn.Module):\n",
    "    def __init__(self, d_in, d_out):\n",
    "        super().__init__()\n",
    "        self.W_query = nn.Parameter(torch.rand(d_in, d_out)) # torch.rand は指定された形の torch.tensor をランダムな値で生成する\n",
    "        self.W_key = nn.Parameter(torch.rand(d_in, d_out))\n",
    "        self.W_value = nn.Parameter(torch.rand(d_in, d_out))\n",
    "    \n",
    "    def forward(self, x):\n",
    "        keys = x @ self.W_key\n",
    "        queries = x @ self.W_query\n",
    "        values = x @ self.W_value\n",
    "        \n",
    "        attn_scores = queries @ keys.T\n",
    "        attn_weights = torch.softmax(\n",
    "            attn_scores / keys.shape[-1]**0.5, dim =-1\n",
    "        )\n",
    "        context_vec = attn_weights @ values\n",
    "        return context_vec"
   ]
  },
  {
   "cell_type": "code",
   "execution_count": 23,
   "id": "87bf53de",
   "metadata": {},
   "outputs": [
    {
     "name": "stdout",
     "output_type": "stream",
     "text": [
      "tensor([[0.2996, 0.8053],\n",
      "        [0.3061, 0.8210],\n",
      "        [0.3058, 0.8203],\n",
      "        [0.2948, 0.7939],\n",
      "        [0.2927, 0.7891],\n",
      "        [0.2990, 0.8040]], grad_fn=<MmBackward0>)\n"
     ]
    }
   ],
   "source": [
    "torch.manual_seed(123)\n",
    "sa_v1 = SelfAttention_v1(d_in, d_out)\n",
    "print(sa_v1(inputs))"
   ]
  },
  {
   "cell_type": "markdown",
   "id": "662aba6b",
   "metadata": {},
   "source": [
    "`torch.nn.Linear` 層を使って上のクラスの実装を簡単にする。\n",
    "`torch.nn.Linear` は最適化された重み初期化スキームを持っていて明示的に `torch.rand` しなくてよくなっている。"
   ]
  },
  {
   "cell_type": "code",
   "execution_count": 24,
   "id": "3d347643",
   "metadata": {},
   "outputs": [],
   "source": [
    "class SelfAttention_v2(nn.Module):\n",
    "    def __init__(self, d_in, d_out, qkv_bias = False):\n",
    "        super().__init__()\n",
    "        self.W_query = nn.Linear(d_in, d_out, bias = qkv_bias)\n",
    "        self.W_key = nn.Linear(d_in, d_out, bias = qkv_bias)\n",
    "        self.W_value = nn.Linear(d_in, d_out, bias = qkv_bias)\n",
    "    \n",
    "    def forward(self, x):\n",
    "        keys = self.W_key(x)\n",
    "        queries = self.W_query(x)\n",
    "        values = self.W_value(x)\n",
    "        \n",
    "        attn_scores = queries @ keys.T\n",
    "        attn_weights = torch.softmax(\n",
    "            attn_scores / keys.shape[-1]**0.5, dim=-1\n",
    "        )\n",
    "        context_vec = attn_weights @ values\n",
    "        return context_vec"
   ]
  },
  {
   "cell_type": "code",
   "execution_count": 25,
   "id": "63c78d5f",
   "metadata": {},
   "outputs": [
    {
     "name": "stdout",
     "output_type": "stream",
     "text": [
      "tensor([[-0.0739,  0.0713],\n",
      "        [-0.0748,  0.0703],\n",
      "        [-0.0749,  0.0702],\n",
      "        [-0.0760,  0.0685],\n",
      "        [-0.0763,  0.0679],\n",
      "        [-0.0754,  0.0693]], grad_fn=<MmBackward0>)\n"
     ]
    }
   ],
   "source": [
    "torch.manual_seed(789)\n",
    "sa_v2 = SelfAttention_v2(d_in, d_out)\n",
    "print(sa_v2(inputs))"
   ]
  },
  {
   "cell_type": "markdown",
   "id": "80f235b0",
   "metadata": {},
   "source": [
    "練習問題【解説】  \n",
    "`sa_v1`, `sa_v2` は それぞれ `torch.Parameter`、`torch.Linear` で行列を管理しているので、型が異なりうまく代入できない。 \n",
    "`torch.nn.Linear` は `.weight` で重みを `torch.Tensor` 型で保管しており（しかも転置した状態）、これを `torch.Parameter` の型に合わせてやれば `sa_vi` の方の重み行列に代入できる。"
   ]
  },
  {
   "cell_type": "code",
   "execution_count": 26,
   "id": "7cab99bc",
   "metadata": {},
   "outputs": [
    {
     "name": "stdout",
     "output_type": "stream",
     "text": [
      "<class 'torch.nn.parameter.Parameter'>\n",
      "tensor([[ 0.4058,  0.2134],\n",
      "        [-0.4704, -0.2601],\n",
      "        [ 0.2368, -0.5105]], grad_fn=<PermuteBackward0>)\n",
      "\n",
      "<class 'torch.nn.parameter.Parameter'>\n",
      "Parameter containing:\n",
      "tensor([[0.1366, 0.1025],\n",
      "        [0.1841, 0.7264],\n",
      "        [0.3153, 0.6871]], requires_grad=True)\n"
     ]
    }
   ],
   "source": [
    "print(type(sa_v2.W_key.weight))\n",
    "print(sa_v2.W_key.weight.T)\n",
    "print()\n",
    "print(type(sa_v1.W_key))\n",
    "print(sa_v1.W_key)"
   ]
  },
  {
   "cell_type": "code",
   "execution_count": 27,
   "id": "af6bac4e",
   "metadata": {},
   "outputs": [
    {
     "name": "stdout",
     "output_type": "stream",
     "text": [
      "tensor([[-0.0739,  0.0713],\n",
      "        [-0.0748,  0.0703],\n",
      "        [-0.0749,  0.0702],\n",
      "        [-0.0760,  0.0685],\n",
      "        [-0.0763,  0.0679],\n",
      "        [-0.0754,  0.0693]], grad_fn=<MmBackward0>)\n",
      "tensor([[-0.0739,  0.0713],\n",
      "        [-0.0748,  0.0703],\n",
      "        [-0.0749,  0.0702],\n",
      "        [-0.0760,  0.0685],\n",
      "        [-0.0763,  0.0679],\n",
      "        [-0.0754,  0.0693]], grad_fn=<MmBackward0>)\n"
     ]
    }
   ],
   "source": [
    "sa_v1.W_key = torch.nn.Parameter(sa_v2.W_key.weight.T)\n",
    "sa_v1.W_query = torch.nn.Parameter(sa_v2.W_query.weight.T)\n",
    "sa_v1.W_value = torch.nn.Parameter(sa_v2.W_value.weight.T)\n",
    "\n",
    "print(sa_v1(inputs))\n",
    "print(sa_v2(inputs))"
   ]
  },
  {
   "cell_type": "markdown",
   "id": "4a3fc500",
   "metadata": {},
   "source": [
    "## 3.5 Casual Attention で未来の単語を隠す"
   ]
  },
  {
   "cell_type": "markdown",
   "id": "5d4cbb23",
   "metadata": {},
   "source": [
    "- **Self Attention** : 入力シーケンス全体に一度アクセス\n",
    "- **Casual Attention** : 現在と以前の入力だけにアクセス (Masked Attention とも呼ばれる)\n",
    "\n",
    "-> Attention 重み行列の対角線よりも上側をマスクすればよい。"
   ]
  },
  {
   "cell_type": "markdown",
   "id": "56b32e6c",
   "metadata": {},
   "source": [
    "### 3.5.1 Casual Attention マスクを適用する"
   ]
  },
  {
   "cell_type": "code",
   "execution_count": 28,
   "id": "36830151",
   "metadata": {},
   "outputs": [],
   "source": [
    "queries = sa_v2.W_query(inputs)\n",
    "keys = sa_v2.W_key(inputs)\n",
    "\n",
    "attn_scores = queries @ keys.T\n",
    "attn_weights = torch.softmax(attn_scores / keys.shape[-1]**0.5, dim=-1)"
   ]
  },
  {
   "cell_type": "markdown",
   "id": "f06346a8",
   "metadata": {},
   "source": [
    "Attention 重みは"
   ]
  },
  {
   "cell_type": "code",
   "execution_count": 29,
   "id": "690a2005",
   "metadata": {},
   "outputs": [
    {
     "name": "stdout",
     "output_type": "stream",
     "text": [
      "tensor([[0.1921, 0.1646, 0.1652, 0.1550, 0.1721, 0.1510],\n",
      "        [0.2041, 0.1659, 0.1662, 0.1496, 0.1665, 0.1477],\n",
      "        [0.2036, 0.1659, 0.1662, 0.1498, 0.1664, 0.1480],\n",
      "        [0.1869, 0.1667, 0.1668, 0.1571, 0.1661, 0.1564],\n",
      "        [0.1830, 0.1669, 0.1670, 0.1588, 0.1658, 0.1585],\n",
      "        [0.1935, 0.1663, 0.1666, 0.1542, 0.1666, 0.1529]],\n",
      "       grad_fn=<SoftmaxBackward0>)\n"
     ]
    }
   ],
   "source": [
    "print(attn_weights)"
   ]
  },
  {
   "cell_type": "markdown",
   "id": "486443bc",
   "metadata": {},
   "source": [
    "これの右上半分を 0 にしたい。`torch.tril` を使う。"
   ]
  },
  {
   "cell_type": "code",
   "execution_count": 30,
   "id": "e1b3d2dc",
   "metadata": {},
   "outputs": [
    {
     "name": "stdout",
     "output_type": "stream",
     "text": [
      "tensor([[1., 0., 0., 0., 0., 0.],\n",
      "        [1., 1., 0., 0., 0., 0.],\n",
      "        [1., 1., 1., 0., 0., 0.],\n",
      "        [1., 1., 1., 1., 0., 0.],\n",
      "        [1., 1., 1., 1., 1., 0.],\n",
      "        [1., 1., 1., 1., 1., 1.]])\n"
     ]
    }
   ],
   "source": [
    "context_length = attn_scores.shape[0]\n",
    "mask_simple = torch.tril(torch.ones(context_length, context_length))\n",
    "print(mask_simple)"
   ]
  },
  {
   "cell_type": "markdown",
   "id": "2406db90",
   "metadata": {},
   "source": [
    "アダマール演算 (同じサイズの行列に対して各成分の積で定める) は `*` っぽい"
   ]
  },
  {
   "cell_type": "code",
   "execution_count": 31,
   "id": "2eb63057",
   "metadata": {},
   "outputs": [
    {
     "name": "stdout",
     "output_type": "stream",
     "text": [
      "tensor([[0.1921, 0.0000, 0.0000, 0.0000, 0.0000, 0.0000],\n",
      "        [0.2041, 0.1659, 0.0000, 0.0000, 0.0000, 0.0000],\n",
      "        [0.2036, 0.1659, 0.1662, 0.0000, 0.0000, 0.0000],\n",
      "        [0.1869, 0.1667, 0.1668, 0.1571, 0.0000, 0.0000],\n",
      "        [0.1830, 0.1669, 0.1670, 0.1588, 0.1658, 0.0000],\n",
      "        [0.1935, 0.1663, 0.1666, 0.1542, 0.1666, 0.1529]],\n",
      "       grad_fn=<MulBackward0>)\n"
     ]
    }
   ],
   "source": [
    "masked_simple  = attn_weights * mask_simple\n",
    "print(masked_simple)"
   ]
  },
  {
   "cell_type": "markdown",
   "id": "103ad6fb",
   "metadata": {},
   "source": [
    "再度各行を正規化（和が1） になるようにする"
   ]
  },
  {
   "cell_type": "code",
   "execution_count": 32,
   "id": "32b75a12",
   "metadata": {},
   "outputs": [
    {
     "name": "stdout",
     "output_type": "stream",
     "text": [
      "tensor([[1.0000, 0.0000, 0.0000, 0.0000, 0.0000, 0.0000],\n",
      "        [0.5517, 0.4483, 0.0000, 0.0000, 0.0000, 0.0000],\n",
      "        [0.3800, 0.3097, 0.3103, 0.0000, 0.0000, 0.0000],\n",
      "        [0.2758, 0.2460, 0.2462, 0.2319, 0.0000, 0.0000],\n",
      "        [0.2175, 0.1983, 0.1984, 0.1888, 0.1971, 0.0000],\n",
      "        [0.1935, 0.1663, 0.1666, 0.1542, 0.1666, 0.1529]],\n",
      "       grad_fn=<DivBackward0>)\n"
     ]
    }
   ],
   "source": [
    "row_sums = masked_simple.sum(dim=-1, keepdim=True)\n",
    "masked_simple_norm = masked_simple / row_sums\n",
    "print(masked_simple_norm)"
   ]
  },
  {
   "cell_type": "markdown",
   "id": "8ed68e92",
   "metadata": {},
   "source": [
    "mask してから softmax して再度 mask しても、softmax してから一度だけ mask しても結果は変わらない. (比が変わらないから)"
   ]
  },
  {
   "cell_type": "code",
   "execution_count": 33,
   "id": "5cd8861b",
   "metadata": {},
   "outputs": [
    {
     "name": "stdout",
     "output_type": "stream",
     "text": [
      "tensor([[1.0000, 0.0000, 0.0000, 0.0000, 0.0000, 0.0000],\n",
      "        [0.5517, 0.4483, 0.0000, 0.0000, 0.0000, 0.0000],\n",
      "        [0.3800, 0.3097, 0.3103, 0.0000, 0.0000, 0.0000],\n",
      "        [0.2758, 0.2460, 0.2462, 0.2319, 0.0000, 0.0000],\n",
      "        [0.2175, 0.1983, 0.1984, 0.1888, 0.1971, 0.0000],\n",
      "        [0.1935, 0.1663, 0.1666, 0.1542, 0.1666, 0.1529]],\n",
      "       grad_fn=<DivBackward0>)\n"
     ]
    }
   ],
   "source": [
    "attn_scores_2 = attn_scores * mask_simple\n",
    "attn_weights_2 = torch.softmax(attn_scores_2 / keys.shape[-1]**0.5, dim=-1)\n",
    "masked_simple_2 = attn_weights_2 * mask_simple\n",
    "row_sums_2 = masked_simple_2.sum(dim=-1, keepdim=True)\n",
    "masked_simple_norm_2 = masked_simple_2 / row_sums_2\n",
    "print(masked_simple_norm_2)"
   ]
  },
  {
   "cell_type": "markdown",
   "id": "8a445ef3",
   "metadata": {},
   "source": [
    "Attention スコアの計算後、上三角の部分を -inf に変換しておくと `-inf` の部分は softmax 計算時に $e^{-\\infty}$ として扱われるので、softmax 計算がすでに所望の平均を計算していたことになる。"
   ]
  },
  {
   "cell_type": "code",
   "execution_count": 34,
   "id": "fea2c972",
   "metadata": {},
   "outputs": [
    {
     "name": "stdout",
     "output_type": "stream",
     "text": [
      "tensor([[0.2899,   -inf,   -inf,   -inf,   -inf,   -inf],\n",
      "        [0.4656, 0.1723,   -inf,   -inf,   -inf,   -inf],\n",
      "        [0.4594, 0.1703, 0.1731,   -inf,   -inf,   -inf],\n",
      "        [0.2642, 0.1024, 0.1036, 0.0186,   -inf,   -inf],\n",
      "        [0.2183, 0.0874, 0.0882, 0.0177, 0.0786,   -inf],\n",
      "        [0.3408, 0.1270, 0.1290, 0.0198, 0.1290, 0.0078]],\n",
      "       grad_fn=<MaskedFillBackward0>)\n"
     ]
    }
   ],
   "source": [
    "mask = torch.triu(torch.ones(context_length, context_length), diagonal=1)\n",
    "masked = attn_scores.masked_fill(mask.bool(), - torch.inf)\n",
    "print(masked)"
   ]
  },
  {
   "cell_type": "markdown",
   "id": "ec68f8ee",
   "metadata": {},
   "source": [
    "実際に各行の和が1であることを確認する"
   ]
  },
  {
   "cell_type": "code",
   "execution_count": 35,
   "id": "8e4c95f7",
   "metadata": {},
   "outputs": [
    {
     "name": "stdout",
     "output_type": "stream",
     "text": [
      "tensor([[1.0000, 0.0000, 0.0000, 0.0000, 0.0000, 0.0000],\n",
      "        [0.5517, 0.4483, 0.0000, 0.0000, 0.0000, 0.0000],\n",
      "        [0.3800, 0.3097, 0.3103, 0.0000, 0.0000, 0.0000],\n",
      "        [0.2758, 0.2460, 0.2462, 0.2319, 0.0000, 0.0000],\n",
      "        [0.2175, 0.1983, 0.1984, 0.1888, 0.1971, 0.0000],\n",
      "        [0.1935, 0.1663, 0.1666, 0.1542, 0.1666, 0.1529]],\n",
      "       grad_fn=<SoftmaxBackward0>)\n"
     ]
    }
   ],
   "source": [
    "attn_weights = torch.softmax(masked /keys.shape[-1]**0.5, dim=-1)\n",
    "print(attn_weights)"
   ]
  },
  {
   "cell_type": "markdown",
   "id": "f194b006",
   "metadata": {},
   "source": [
    "### 3.5.2 Attention の重みにドロップアウトマスクを適用する"
   ]
  },
  {
   "cell_type": "markdown",
   "id": "bf22ba88",
   "metadata": {},
   "source": [
    "- **ドロップアウト (dropout)** : ランダムに選択された隠れ層ユニットを無視することで、過剰適合(オーバーフィッティング)を防ぐ"
   ]
  },
  {
   "cell_type": "markdown",
   "id": "31091318",
   "metadata": {},
   "source": [
    "Attention 重みを計算した後にマスクをランダムに適用させる。\n",
    "※ ベクトル計算後に適用させる流派もあるらしい"
   ]
  },
  {
   "cell_type": "markdown",
   "id": "7c16722b",
   "metadata": {},
   "source": [
    "ドロップアウト率 50% で実装"
   ]
  },
  {
   "cell_type": "code",
   "execution_count": 36,
   "id": "a3f2afe9",
   "metadata": {},
   "outputs": [
    {
     "name": "stdout",
     "output_type": "stream",
     "text": [
      "tensor([[2., 2., 2., 2., 2., 2.],\n",
      "        [0., 2., 0., 0., 0., 0.],\n",
      "        [0., 0., 2., 0., 2., 0.],\n",
      "        [2., 2., 0., 0., 0., 2.],\n",
      "        [2., 0., 0., 0., 0., 2.],\n",
      "        [0., 2., 0., 0., 0., 0.]])\n"
     ]
    }
   ],
   "source": [
    "torch.manual_seed(123)\n",
    "dropout = torch.nn.Dropout(p=0.5) # ドロップアウト率 50%\n",
    "example = torch.ones(6, 6) # 1 埋め行列\n",
    "print(dropout(example))"
   ]
  },
  {
   "cell_type": "markdown",
   "id": "3f06be4f",
   "metadata": {},
   "source": [
    "成分が2になっているのは、削除された成分の分、スケールアップするため 1/(0.5) = 2 倍されている。  \n",
    "-> Attention 重みの全体的なバランスを維持できる"
   ]
  },
  {
   "cell_type": "code",
   "execution_count": 37,
   "id": "350d8c97",
   "metadata": {},
   "outputs": [
    {
     "name": "stdout",
     "output_type": "stream",
     "text": [
      "tensor([[2.0000, 0.0000, 0.0000, 0.0000, 0.0000, 0.0000],\n",
      "        [0.0000, 0.8966, 0.0000, 0.0000, 0.0000, 0.0000],\n",
      "        [0.0000, 0.0000, 0.6206, 0.0000, 0.0000, 0.0000],\n",
      "        [0.5517, 0.4921, 0.0000, 0.0000, 0.0000, 0.0000],\n",
      "        [0.4350, 0.0000, 0.0000, 0.0000, 0.0000, 0.0000],\n",
      "        [0.0000, 0.3327, 0.0000, 0.0000, 0.0000, 0.0000]],\n",
      "       grad_fn=<MulBackward0>)\n"
     ]
    }
   ],
   "source": [
    "torch.manual_seed(123)\n",
    "print(dropout(attn_weights))"
   ]
  },
  {
   "cell_type": "markdown",
   "id": "a80ffcc8",
   "metadata": {},
   "source": [
    "### 3.5.3 コンパクトな Casual Attention クラスを実装する"
   ]
  },
  {
   "cell_type": "code",
   "execution_count": 38,
   "id": "4e209af0",
   "metadata": {},
   "outputs": [
    {
     "name": "stdout",
     "output_type": "stream",
     "text": [
      "tensor([[[0.4300, 0.1500, 0.8900],\n",
      "         [0.5500, 0.8700, 0.6600],\n",
      "         [0.5700, 0.8500, 0.6400],\n",
      "         [0.2200, 0.5800, 0.3300],\n",
      "         [0.7700, 0.2500, 0.1000],\n",
      "         [0.0500, 0.8000, 0.5500]],\n",
      "\n",
      "        [[0.4300, 0.1500, 0.8900],\n",
      "         [0.5500, 0.8700, 0.6600],\n",
      "         [0.5700, 0.8500, 0.6400],\n",
      "         [0.2200, 0.5800, 0.3300],\n",
      "         [0.7700, 0.2500, 0.1000],\n",
      "         [0.0500, 0.8000, 0.5500]]])\n",
      "torch.Size([2, 6, 3])\n"
     ]
    }
   ],
   "source": [
    "batch = torch.stack((inputs, inputs), dim=0)\n",
    "print(batch)\n",
    "print(batch.shape)"
   ]
  },
  {
   "cell_type": "code",
   "execution_count": 39,
   "id": "191dc3d9",
   "metadata": {},
   "outputs": [],
   "source": [
    "class CasualAttention(nn.Module):\n",
    "    def __init__(self, d_in, d_out, context_length, dropout, qkv_bias=False):\n",
    "        super().__init__()\n",
    "        self.d_out = d_out\n",
    "        self.W_query = nn.Linear(d_in, d_out, bias=qkv_bias)\n",
    "        self.W_key = nn.Linear(d_in, d_out, bias=qkv_bias)\n",
    "        self.W_value = nn.Linear(d_in, d_out, bias=qkv_bias)\n",
    "        \n",
    "        self.dropout = nn.Dropout(p=dropout)\n",
    "        self.register_buffer(\n",
    "            \"mask\",\n",
    "            torch.triu(torch.ones(context_length, context_length),\n",
    "                       diagonal=1)\n",
    "            ) # テンソルがモデルパラメータと同じデバイス上にあることを保証するために register_buffer を使用\n",
    "        # バッファをモデルとともに適切なデバイス(CPU/GPU)に自動的に移動されることがあり、この性質が有効になる\n",
    "\n",
    "    def forward(self, x):\n",
    "        b, num_tokens, d_in = x.shape # 次元 1 と 2 を入れ替える。バッチ次元は最初の位置 (0) のまま\n",
    "        keys = self.W_key(x)\n",
    "        queries = self.W_query(x)\n",
    "        values = self.W_value(x)\n",
    "        \n",
    "        attn_scores = queries @ keys.transpose(1, 2)\n",
    "        attn_scores.masked_fill_(\n",
    "            self.mask.bool()[:num_tokens, :num_tokens], -torch.inf\n",
    "            )# <-- `_`終わりのメソッドは、インプレース実行 (オブジェクトの内容を直接変更) され。無駄なメモリコピーを回避する\n",
    "        attn_weights = torch.softmax(\n",
    "            attn_scores / keys.shape[-1]**0.5, dim=-1\n",
    "        )\n",
    "        attn_weights = self.dropout(attn_weights)\n",
    "        \n",
    "        context_vec = attn_weights @ values\n",
    "        return context_vec"
   ]
  },
  {
   "cell_type": "code",
   "execution_count": 40,
   "id": "c14ddb63",
   "metadata": {},
   "outputs": [
    {
     "name": "stdout",
     "output_type": "stream",
     "text": [
      "tensor([[[-0.4519,  0.2216],\n",
      "         [-0.5874,  0.0058],\n",
      "         [-0.6300, -0.0632],\n",
      "         [-0.5675, -0.0843],\n",
      "         [-0.5526, -0.0981],\n",
      "         [-0.5299, -0.1081]],\n",
      "\n",
      "        [[-0.4519,  0.2216],\n",
      "         [-0.5874,  0.0058],\n",
      "         [-0.6300, -0.0632],\n",
      "         [-0.5675, -0.0843],\n",
      "         [-0.5526, -0.0981],\n",
      "         [-0.5299, -0.1081]]], grad_fn=<UnsafeViewBackward0>)\n",
      "contect_vecs.shape: torch.Size([2, 6, 2])\n"
     ]
    }
   ],
   "source": [
    "torch.manual_seed(123)\n",
    "context_length = batch.shape[1]\n",
    "ca = CasualAttention(\n",
    "    d_in,\n",
    "    d_out,\n",
    "    context_length,\n",
    "    dropout=0.0,\n",
    ")\n",
    "\n",
    "context_vecs = ca(batch)\n",
    "print(context_vecs)\n",
    "print(\"contect_vecs.shape:\", context_vecs.shape)"
   ]
  },
  {
   "cell_type": "markdown",
   "id": "ddd2c5db",
   "metadata": {},
   "source": [
    "## 3.6 Single-Attention を Multi-head Attention に拡張する"
   ]
  },
  {
   "cell_type": "markdown",
   "id": "0498eed5",
   "metadata": {},
   "source": [
    "### 3.6.1 複数の Single-head Attention 層を積み重ねる"
   ]
  },
  {
   "cell_type": "code",
   "execution_count": 41,
   "id": "43e3f56a",
   "metadata": {},
   "outputs": [],
   "source": [
    "class MultiHeadAttention(nn.Module):\n",
    "    def __init__(self, d_in, d_out, context_length, dropout, num_heads, \n",
    "                 qkv_bias=False):\n",
    "        super().__init__()\n",
    "        self.heads = nn.ModuleList(\n",
    "            CasualAttention(d_in, d_out, context_length, dropout, qkv_bias)\n",
    "            for _ in range(num_heads)\n",
    "        )\n",
    "    def forward(self, x):\n",
    "        return torch.cat([head(x) for head in self.heads], dim=-1) # 単に結果を結合するだけ"
   ]
  },
  {
   "cell_type": "code",
   "execution_count": 42,
   "id": "c1d730db",
   "metadata": {},
   "outputs": [
    {
     "name": "stdout",
     "output_type": "stream",
     "text": [
      "tensor([[[-0.4519,  0.2216,  0.4772,  0.1063],\n",
      "         [-0.5874,  0.0058,  0.5891,  0.3257],\n",
      "         [-0.6300, -0.0632,  0.6202,  0.3860],\n",
      "         [-0.5675, -0.0843,  0.5478,  0.3589],\n",
      "         [-0.5526, -0.0981,  0.5321,  0.3428],\n",
      "         [-0.5299, -0.1081,  0.5077,  0.3493]],\n",
      "\n",
      "        [[-0.4519,  0.2216,  0.4772,  0.1063],\n",
      "         [-0.5874,  0.0058,  0.5891,  0.3257],\n",
      "         [-0.6300, -0.0632,  0.6202,  0.3860],\n",
      "         [-0.5675, -0.0843,  0.5478,  0.3589],\n",
      "         [-0.5526, -0.0981,  0.5321,  0.3428],\n",
      "         [-0.5299, -0.1081,  0.5077,  0.3493]]], grad_fn=<CatBackward0>)\n",
      "contect_vecs_mha.shape: torch.Size([2, 6, 4])\n"
     ]
    }
   ],
   "source": [
    "torch.manual_seed(123)\n",
    "context_length = batch.shape[1]\n",
    "d_in, d_out = 3, 2\n",
    "mha = MultiHeadAttention(\n",
    "    d_in,\n",
    "    d_out,\n",
    "    context_length,\n",
    "    dropout=0.0,\n",
    "    num_heads=2,\n",
    ")\n",
    "context_vecs = mha(batch)\n",
    "\n",
    "print(context_vecs)\n",
    "print(\"contect_vecs_mha.shape:\", context_vecs.shape)"
   ]
  },
  {
   "cell_type": "markdown",
   "id": "56fcd2b7",
   "metadata": {},
   "source": [
    "### 3.6.2 重みを分割することで Multi-head Attention を実装する"
   ]
  },
  {
   "cell_type": "markdown",
   "id": "ea1a0caa",
   "metadata": {},
   "source": [
    "`CasualAttention` 内の記述を `MultiHeadAttention` に移植、修正する。  \n",
    "やってることは、行列式の計算階数を for でやっているところを、うまく結合することにより一回の計算で済ませている。"
   ]
  },
  {
   "cell_type": "code",
   "execution_count": 43,
   "id": "8d7a3e25",
   "metadata": {},
   "outputs": [],
   "source": [
    "class MultiHeadAttention(nn.Module):\n",
    "    def __init__(self, d_in, d_out, context_length, dropout, num_heads, qkv_bias=False):\n",
    "        super().__init__()\n",
    "        assert (d_out % num_heads == 0), \"d_out must be divisible by num_heads\"\n",
    "    \n",
    "        self.d_out = d_out\n",
    "        self.num_heads = num_heads\n",
    "        self.head_dim = d_out // num_heads # 出力次数をhead で分割    \n",
    "\n",
    "        self.d_out = d_out\n",
    "        self.num_heads = num_heads\n",
    "        self.head_dim = d_out // num_heads # Reduce the projection dim to match desired output dim\n",
    "        self.W_query = nn.Linear(d_in, d_out, bias=qkv_bias)\n",
    "        self.W_key = nn.Linear(d_in, d_out, bias=qkv_bias)\n",
    "        self.W_value = nn.Linear(d_in, d_out, bias=qkv_bias)\n",
    "        \n",
    "        self.out_proj = nn.Linear(d_out, d_out) # Linear 層を使ってヘッドの出力を組み合わせる\n",
    "        self.dropout = nn.Dropout(dropout)\n",
    "        self.register_buffer(\n",
    "            \"mask\",\n",
    "            torch.triu(torch.ones(context_length, context_length), diagonal=1)\n",
    "        )\n",
    "        \n",
    "    def forward(self, x):\n",
    "        b, num_tokens, d_in = x.shape\n",
    "        keys = self.W_key(x)\n",
    "        queries = self.W_query(x)\n",
    "        values = self.W_value(x)\n",
    "        \n",
    "        keys = keys.view(b, num_tokens, self.num_heads, self.head_dim)\n",
    "        values = values.view(b, num_tokens, self.num_heads, self.head_dim)\n",
    "        queries = queries.view(b, num_tokens, self.num_heads, self.head_dim)\n",
    "        \n",
    "        keys = keys.transpose(1, 2) # (b, num_heads, num_tokens, head_dim)\n",
    "        queries = queries.transpose(1, 2) # (b, num_heads, num_tokens, head_dim)\n",
    "        values = values.transpose(1, 2) # (b, num_heads, num_tokens, head_dim)\n",
    "        \n",
    "        attn_scores = queries @ keys.transpose(2, 3) # 各ヘッドドット積を計算\n",
    "        \n",
    "        mask_bool = self.mask.bool()[:num_tokens, :num_tokens] # マスクをトークン数で切り捨て\n",
    "        attn_scores.masked_fill_(mask_bool, -torch.inf) # Attention スコアを埋めるためにマスクを使う\n",
    "        \n",
    "        attn_weights = torch.softmax(\n",
    "            attn_scores / keys.shape[-1]**0.5, dim=-1\n",
    "        )\n",
    "        attn_weights = self.dropout(attn_weights) # ドロップアウトを適用\n",
    "        \n",
    "        context_vec = (attn_weights @ values).transpose(1, 2) # (b, num_heads, num_tokens, head_dim)\n",
    "        context_vec = context_vec.contiguous().view(b, num_tokens, self.d_out) # self.out に基づいてヘッドを結合\n",
    "        \n",
    "        context_vec = self.out_proj(context_vec) # 線形射像を追加 (これなにやってんの？)\n",
    "        \n",
    "        return context_vec"
   ]
  },
  {
   "cell_type": "markdown",
   "id": "3e02bd8c",
   "metadata": {},
   "source": [
    "行列計算の例"
   ]
  },
  {
   "cell_type": "code",
   "execution_count": 44,
   "id": "a7ca7473",
   "metadata": {},
   "outputs": [
    {
     "name": "stdout",
     "output_type": "stream",
     "text": [
      "tensor([[[[0.2745, 0.8993, 0.7179],\n",
      "          [0.6584, 0.0390, 0.7058],\n",
      "          [0.2775, 0.9268, 0.9156],\n",
      "          [0.8573, 0.7388, 0.4340]],\n",
      "\n",
      "         [[0.0722, 0.4066, 0.4606],\n",
      "          [0.3565, 0.2318, 0.5159],\n",
      "          [0.1479, 0.4545, 0.4220],\n",
      "          [0.5331, 0.9737, 0.5786]]]])\n",
      "\n",
      "tensor([[[[1.3208, 1.1631, 1.2879],\n",
      "          [1.1631, 2.2150, 1.8424],\n",
      "          [1.2879, 1.8424, 2.0402]],\n",
      "\n",
      "         [[0.4384, 0.6983, 0.5880],\n",
      "          [0.6983, 1.3737, 1.0620],\n",
      "          [0.5880, 1.0620, 0.9912]]]])\n"
     ]
    }
   ],
   "source": [
    "a = torch.tensor([[[[0.2745, 0.6584, 0.2775, 0.8573],\n",
    "                    [0.8993, 0.0390, 0.9268, 0.7388],\n",
    "                    [0.7179, 0.7058, 0.9156, 0.4340]],\n",
    "                   \n",
    "                   [[0.0722, 0.3565, 0.1479, 0.5331],\n",
    "                    [0.4066, 0.2318, 0.4545, 0.9737],\n",
    "                    [0.4606, 0.5159, 0.4220, 0.5786]]]]) # a の形状は (1, 2, 3, 4) で 1つのバッチ、2つのヘッド、3つのトークン、4つの埋め込み次元を持つ\n",
    "print(a.transpose(2, 3)) # 転置は次元 2 と 3 を入れ替え。トークンと埋め込み次元の部分のみの転置をうまく行っている\n",
    "print()\n",
    "print(a @ a.transpose(2, 3))"
   ]
  },
  {
   "cell_type": "markdown",
   "id": "dd779e98",
   "metadata": {},
   "source": [
    "MutiHeadAttention クラスの使い方"
   ]
  },
  {
   "cell_type": "code",
   "execution_count": 45,
   "id": "69b9e83e",
   "metadata": {},
   "outputs": [
    {
     "name": "stdout",
     "output_type": "stream",
     "text": [
      "tensor([[[0.3190, 0.4858],\n",
      "         [0.2943, 0.3897],\n",
      "         [0.2856, 0.3593],\n",
      "         [0.2693, 0.3873],\n",
      "         [0.2639, 0.3928],\n",
      "         [0.2575, 0.4028]],\n",
      "\n",
      "        [[0.3190, 0.4858],\n",
      "         [0.2943, 0.3897],\n",
      "         [0.2856, 0.3593],\n",
      "         [0.2693, 0.3873],\n",
      "         [0.2639, 0.3928],\n",
      "         [0.2575, 0.4028]]], grad_fn=<ViewBackward0>)\n",
      "context_vecs.shape: torch.Size([2, 6, 2])\n"
     ]
    }
   ],
   "source": [
    "torch.manual_seed(123)\n",
    "batch_size, context_length, d_in = batch.shape\n",
    "d_out = 2\n",
    "mha = MultiHeadAttention(d_in, d_out, context_length, 0.0, num_heads=2)\n",
    "context_vecs = mha(batch)\n",
    "print(context_vecs)\n",
    "print(\"context_vecs.shape:\", context_vecs.shape)"
   ]
  },
  {
   "cell_type": "code",
   "execution_count": 46,
   "id": "2d99a717",
   "metadata": {},
   "outputs": [],
   "source": [
    "mha = MultiHeadAttention(768, 768, 1024, 0.0, num_heads=12)"
   ]
  }
 ],
 "metadata": {
  "kernelspec": {
   "display_name": "Python 3",
   "language": "python",
   "name": "python3"
  },
  "language_info": {
   "codemirror_mode": {
    "name": "ipython",
    "version": 3
   },
   "file_extension": ".py",
   "mimetype": "text/x-python",
   "name": "python",
   "nbconvert_exporter": "python",
   "pygments_lexer": "ipython3",
   "version": "3.10.12"
  }
 },
 "nbformat": 4,
 "nbformat_minor": 5
}
